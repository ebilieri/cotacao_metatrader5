{
 "cells": [
  {
   "cell_type": "code",
   "execution_count": 1,
   "metadata": {},
   "outputs": [
    {
     "name": "stdout",
     "output_type": "stream",
     "text": [
      "Requirement already satisfied: MetaTrader5 in c:\\users\\ebili\\anaconda3\\lib\\site-packages (5.0.45)\n",
      "Requirement already satisfied: numpy>=1.7 in c:\\users\\ebili\\anaconda3\\lib\\site-packages (from MetaTrader5) (1.23.5)\n",
      "Note: you may need to restart the kernel to use updated packages.\n"
     ]
    }
   ],
   "source": [
    "pip install MetaTrader5"
   ]
  },
  {
   "cell_type": "code",
   "execution_count": 2,
   "metadata": {},
   "outputs": [
    {
     "name": "stdout",
     "output_type": "stream",
     "text": [
      "Requirement already satisfied: python-dotenv in c:\\users\\ebili\\anaconda3\\lib\\site-packages (1.0.0)Note: you may need to restart the kernel to use updated packages.\n",
      "\n"
     ]
    }
   ],
   "source": [
    "pip install python-dotenv"
   ]
  },
  {
   "cell_type": "code",
   "execution_count": 3,
   "metadata": {},
   "outputs": [],
   "source": [
    "import MetaTrader5 as mt5\n",
    "import time\n",
    "import smtplib\n",
    "from email.message import EmailMessage\n",
    "import os\n",
    "from dotenv import load_dotenv\n",
    "from datetime import datetime"
   ]
  },
  {
   "attachments": {},
   "cell_type": "markdown",
   "metadata": {},
   "source": [
    "## Carregar variaveis de ambiente"
   ]
  },
  {
   "cell_type": "code",
   "execution_count": 4,
   "metadata": {},
   "outputs": [
    {
     "data": {
      "text/plain": [
       "True"
      ]
     },
     "execution_count": 4,
     "metadata": {},
     "output_type": "execute_result"
    }
   ],
   "source": [
    "load_dotenv()"
   ]
  },
  {
   "cell_type": "code",
   "execution_count": 5,
   "metadata": {},
   "outputs": [],
   "source": [
    "senha = os.environ.get(\"senha_email\")\n",
    "email = 'ebilieri@gmail.com'"
   ]
  },
  {
   "cell_type": "code",
   "execution_count": 6,
   "metadata": {},
   "outputs": [],
   "source": [
    "def envia_email(ticker: str, valor: str) -> None:\n",
    "    now = datetime.today().isoformat()\n",
    "    msg = EmailMessage()\n",
    "    msg['Subject'] = f\"Alerta de compra Python Ticker B3 {ticker} -> {valor}\"\n",
    "    msg['From'] = 'ebilieri@gmail.com'\n",
    "    msg['To'] = 'emerson.claudelino@gmail.com, ebilieri@hotmail.com'\n",
    "\n",
    "    msg.set_content(f'''\n",
    "    \n",
    "    \n",
    "    O ativo {ticker} chegou no preço de compra {valor}\n",
    "\n",
    "    --------------------------------------------------\n",
    "\n",
    "    Data/Hora: {now}\n",
    "    ''')\n",
    "\n",
    "    # Send mail\n",
    "    with smtplib.SMTP_SSL('smtp.gmail.com', 465) as smtp:\n",
    "    \n",
    "        smtp.login(email, senha)\n",
    "        smtp.send_message(msg)"
   ]
  },
  {
   "attachments": {},
   "cell_type": "markdown",
   "metadata": {},
   "source": [
    "## Abrir MetaTrader"
   ]
  },
  {
   "cell_type": "code",
   "execution_count": 7,
   "metadata": {},
   "outputs": [
    {
     "data": {
      "text/plain": [
       "True"
      ]
     },
     "execution_count": 7,
     "metadata": {},
     "output_type": "execute_result"
    }
   ],
   "source": [
    "mt5.initialize()"
   ]
  },
  {
   "attachments": {},
   "cell_type": "markdown",
   "metadata": {},
   "source": [
    "## Pega os simbolos"
   ]
  },
  {
   "cell_type": "code",
   "execution_count": 8,
   "metadata": {},
   "outputs": [
    {
     "data": {
      "text/plain": [
       "88"
      ]
     },
     "execution_count": 8,
     "metadata": {},
     "output_type": "execute_result"
    }
   ],
   "source": [
    "simbolos = mt5.symbols_get()\n",
    "len(simbolos)"
   ]
  },
  {
   "cell_type": "code",
   "execution_count": 9,
   "metadata": {},
   "outputs": [
    {
     "name": "stdout",
     "output_type": "stream",
     "text": [
      "EURUSD\n",
      "GBPUSD\n",
      "USDCHF\n",
      "USDJPY\n",
      "USDCNH\n",
      "USDRUB\n",
      "AUDUSD\n",
      "NZDUSD\n",
      "USDCAD\n",
      "USDSEK\n",
      "USDHKD\n",
      "USDSGD\n",
      "USDNOK\n",
      "USDDKK\n",
      "USDTRY\n",
      "USDZAR\n",
      "USDCZK\n",
      "USDHUF\n",
      "USDPLN\n",
      "USDRUR\n",
      "AUDCAD\n",
      "AUDCHF\n",
      "AUDJPY\n",
      "AUDNZD\n",
      "CADCHF\n",
      "CADJPY\n",
      "CHFJPY\n",
      "EURAUD\n",
      "EURCAD\n",
      "EURCHF\n",
      "EURCZK\n",
      "EURDKK\n",
      "EURGBP\n",
      "EURHKD\n",
      "EURHUF\n",
      "EURJPY\n",
      "EURNOK\n",
      "EURNZD\n",
      "EURPLN\n",
      "EURRUR\n",
      "EURRUB\n",
      "EURSEK\n",
      "EURTRY\n",
      "EURZAR\n",
      "GBPAUD\n",
      "GBPCHF\n",
      "GBPJPY\n",
      "XAUUSD\n",
      "XAUEUR\n",
      "XAUAUD\n",
      "XAGUSD\n",
      "XAGEUR\n",
      "GBPCAD\n",
      "USDCRE\n",
      "GBPNOK\n",
      "GBPNZD\n",
      "GBPPLN\n",
      "GBPSEK\n",
      "GBPSGD\n",
      "GBPZAR\n",
      "NZDCAD\n",
      "NZDCHF\n",
      "NZDJPY\n",
      "NZDSGD\n",
      "SGDJPY\n",
      "XPDUSD\n",
      "XPTUSD\n",
      "USDGEL\n",
      "USDMXN\n",
      "EURMXN\n",
      "GBPMXN\n",
      "CADMXN\n",
      "CHFMXN\n",
      "MXNJPY\n",
      "NZDMXN\n",
      "USDCOP\n",
      "USDARS\n",
      "USDCLP\n",
      "AUS200\n",
      "FCHI40\n",
      "GDAXIm\n",
      "HSI50\n",
      "ND100m\n",
      "NI225\n",
      "SP500m\n",
      "SPN35\n",
      "STOX50\n",
      "UK100\n"
     ]
    }
   ],
   "source": [
    "for ticker in simbolos:\n",
    "    print(ticker.name)"
   ]
  },
  {
   "attachments": {},
   "cell_type": "markdown",
   "metadata": {},
   "source": [
    "## selecionar simbolos"
   ]
  },
  {
   "cell_type": "code",
   "execution_count": 10,
   "metadata": {},
   "outputs": [
    {
     "data": {
      "text/plain": [
       "True"
      ]
     },
     "execution_count": 10,
     "metadata": {},
     "output_type": "execute_result"
    }
   ],
   "source": [
    "mt5.symbol_select(\"EURUSD\")"
   ]
  },
  {
   "attachments": {},
   "cell_type": "markdown",
   "metadata": {},
   "source": [
    "## Pegando contações"
   ]
  },
  {
   "cell_type": "code",
   "execution_count": 11,
   "metadata": {},
   "outputs": [
    {
     "name": "stdout",
     "output_type": "stream",
     "text": [
      "Tick(time=1684904920, bid=1.07694, ask=1.07694, last=0.0, volume=0, time_msc=1684904920879, flags=6, volume_real=0.0)\n"
     ]
    }
   ],
   "source": [
    "tick = mt5.symbol_info_tick(\"EURUSD\")\n",
    "print(tick)"
   ]
  },
  {
   "cell_type": "code",
   "execution_count": 12,
   "metadata": {},
   "outputs": [
    {
     "name": "stdout",
     "output_type": "stream",
     "text": [
      "Fechamento: 0.0\n",
      "Valor compra: 1.07694\n",
      "Valor venda: 1.07693\n",
      "-----------------\n",
      "Fechamento: 0.0\n",
      "Valor compra: 1.07695\n",
      "Valor venda: 1.07694\n",
      "-----------------\n",
      "Fechamento: 0.0\n",
      "Valor compra: 1.077\n",
      "Valor venda: 1.07699\n",
      "-----------------\n",
      "Fechamento: 0.0\n",
      "Valor compra: 1.07694\n",
      "Valor venda: 1.07694\n",
      "-----------------\n",
      "Fechamento: 0.0\n",
      "Valor compra: 1.07695\n",
      "Valor venda: 1.07694\n",
      "-----------------\n",
      "Fechamento: 0.0\n",
      "Valor compra: 1.07691\n",
      "Valor venda: 1.0769\n",
      "-----------------\n",
      "Fechamento: 0.0\n",
      "Valor compra: 1.07693\n",
      "Valor venda: 1.07692\n",
      "-----------------\n",
      "Fechamento: 0.0\n",
      "Valor compra: 1.07694\n",
      "Valor venda: 1.07693\n",
      "-----------------\n"
     ]
    },
    {
     "ename": "KeyboardInterrupt",
     "evalue": "",
     "output_type": "error",
     "traceback": [
      "\u001b[1;31m---------------------------------------------------------------------------\u001b[0m",
      "\u001b[1;31mKeyboardInterrupt\u001b[0m                         Traceback (most recent call last)",
      "Cell \u001b[1;32mIn[12], line 13\u001b[0m\n\u001b[0;32m     10\u001b[0m \u001b[39mprint\u001b[39m(\u001b[39m\"\u001b[39m\u001b[39m-----------------\u001b[39m\u001b[39m\"\u001b[39m)\n\u001b[0;32m     12\u001b[0m \u001b[39mif\u001b[39;00m tick\u001b[39m.\u001b[39mbid \u001b[39m<\u001b[39m \u001b[39m1.10000\u001b[39m:\n\u001b[1;32m---> 13\u001b[0m     envia_email(ticker\u001b[39m=\u001b[39;49mticker1, valor\u001b[39m=\u001b[39;49mtick\u001b[39m.\u001b[39;49mbid)\n\u001b[0;32m     15\u001b[0m time\u001b[39m.\u001b[39msleep(\u001b[39m5\u001b[39m)\n",
      "Cell \u001b[1;32mIn[6], line 22\u001b[0m, in \u001b[0;36menvia_email\u001b[1;34m(ticker, valor)\u001b[0m\n\u001b[0;32m     19\u001b[0m \u001b[39mwith\u001b[39;00m smtplib\u001b[39m.\u001b[39mSMTP_SSL(\u001b[39m'\u001b[39m\u001b[39msmtp.gmail.com\u001b[39m\u001b[39m'\u001b[39m, \u001b[39m465\u001b[39m) \u001b[39mas\u001b[39;00m smtp:\n\u001b[0;32m     21\u001b[0m     smtp\u001b[39m.\u001b[39mlogin(email, senha)\n\u001b[1;32m---> 22\u001b[0m     smtp\u001b[39m.\u001b[39;49msend_message(msg)\n",
      "File \u001b[1;32mc:\\Users\\ebili\\anaconda3\\lib\\smtplib.py:986\u001b[0m, in \u001b[0;36mSMTP.send_message\u001b[1;34m(self, msg, from_addr, to_addrs, mail_options, rcpt_options)\u001b[0m\n\u001b[0;32m    984\u001b[0m     g\u001b[39m.\u001b[39mflatten(msg_copy, linesep\u001b[39m=\u001b[39m\u001b[39m'\u001b[39m\u001b[39m\\r\u001b[39;00m\u001b[39m\\n\u001b[39;00m\u001b[39m'\u001b[39m)\n\u001b[0;32m    985\u001b[0m     flatmsg \u001b[39m=\u001b[39m bytesmsg\u001b[39m.\u001b[39mgetvalue()\n\u001b[1;32m--> 986\u001b[0m \u001b[39mreturn\u001b[39;00m \u001b[39mself\u001b[39;49m\u001b[39m.\u001b[39;49msendmail(from_addr, to_addrs, flatmsg, mail_options,\n\u001b[0;32m    987\u001b[0m                      rcpt_options)\n",
      "File \u001b[1;32mc:\\Users\\ebili\\anaconda3\\lib\\smtplib.py:902\u001b[0m, in \u001b[0;36mSMTP.sendmail\u001b[1;34m(self, from_addr, to_addrs, msg, mail_options, rcpt_options)\u001b[0m\n\u001b[0;32m    900\u001b[0m     \u001b[39mself\u001b[39m\u001b[39m.\u001b[39m_rset()\n\u001b[0;32m    901\u001b[0m     \u001b[39mraise\u001b[39;00m SMTPRecipientsRefused(senderrs)\n\u001b[1;32m--> 902\u001b[0m (code, resp) \u001b[39m=\u001b[39m \u001b[39mself\u001b[39;49m\u001b[39m.\u001b[39;49mdata(msg)\n\u001b[0;32m    903\u001b[0m \u001b[39mif\u001b[39;00m code \u001b[39m!=\u001b[39m \u001b[39m250\u001b[39m:\n\u001b[0;32m    904\u001b[0m     \u001b[39mif\u001b[39;00m code \u001b[39m==\u001b[39m \u001b[39m421\u001b[39m:\n",
      "File \u001b[1;32mc:\\Users\\ebili\\anaconda3\\lib\\smtplib.py:580\u001b[0m, in \u001b[0;36mSMTP.data\u001b[1;34m(self, msg)\u001b[0m\n\u001b[0;32m    578\u001b[0m q \u001b[39m=\u001b[39m q \u001b[39m+\u001b[39m \u001b[39mb\u001b[39m\u001b[39m\"\u001b[39m\u001b[39m.\u001b[39m\u001b[39m\"\u001b[39m \u001b[39m+\u001b[39m bCRLF\n\u001b[0;32m    579\u001b[0m \u001b[39mself\u001b[39m\u001b[39m.\u001b[39msend(q)\n\u001b[1;32m--> 580\u001b[0m (code, msg) \u001b[39m=\u001b[39m \u001b[39mself\u001b[39;49m\u001b[39m.\u001b[39;49mgetreply()\n\u001b[0;32m    581\u001b[0m \u001b[39mif\u001b[39;00m \u001b[39mself\u001b[39m\u001b[39m.\u001b[39mdebuglevel \u001b[39m>\u001b[39m \u001b[39m0\u001b[39m:\n\u001b[0;32m    582\u001b[0m     \u001b[39mself\u001b[39m\u001b[39m.\u001b[39m_print_debug(\u001b[39m'\u001b[39m\u001b[39mdata:\u001b[39m\u001b[39m'\u001b[39m, (code, msg))\n",
      "File \u001b[1;32mc:\\Users\\ebili\\anaconda3\\lib\\smtplib.py:398\u001b[0m, in \u001b[0;36mSMTP.getreply\u001b[1;34m(self)\u001b[0m\n\u001b[0;32m    396\u001b[0m \u001b[39mwhile\u001b[39;00m \u001b[39m1\u001b[39m:\n\u001b[0;32m    397\u001b[0m     \u001b[39mtry\u001b[39;00m:\n\u001b[1;32m--> 398\u001b[0m         line \u001b[39m=\u001b[39m \u001b[39mself\u001b[39;49m\u001b[39m.\u001b[39;49mfile\u001b[39m.\u001b[39;49mreadline(_MAXLINE \u001b[39m+\u001b[39;49m \u001b[39m1\u001b[39;49m)\n\u001b[0;32m    399\u001b[0m     \u001b[39mexcept\u001b[39;00m \u001b[39mOSError\u001b[39;00m \u001b[39mas\u001b[39;00m e:\n\u001b[0;32m    400\u001b[0m         \u001b[39mself\u001b[39m\u001b[39m.\u001b[39mclose()\n",
      "File \u001b[1;32mc:\\Users\\ebili\\anaconda3\\lib\\socket.py:705\u001b[0m, in \u001b[0;36mSocketIO.readinto\u001b[1;34m(self, b)\u001b[0m\n\u001b[0;32m    703\u001b[0m \u001b[39mwhile\u001b[39;00m \u001b[39mTrue\u001b[39;00m:\n\u001b[0;32m    704\u001b[0m     \u001b[39mtry\u001b[39;00m:\n\u001b[1;32m--> 705\u001b[0m         \u001b[39mreturn\u001b[39;00m \u001b[39mself\u001b[39;49m\u001b[39m.\u001b[39;49m_sock\u001b[39m.\u001b[39;49mrecv_into(b)\n\u001b[0;32m    706\u001b[0m     \u001b[39mexcept\u001b[39;00m timeout:\n\u001b[0;32m    707\u001b[0m         \u001b[39mself\u001b[39m\u001b[39m.\u001b[39m_timeout_occurred \u001b[39m=\u001b[39m \u001b[39mTrue\u001b[39;00m\n",
      "File \u001b[1;32mc:\\Users\\ebili\\anaconda3\\lib\\ssl.py:1274\u001b[0m, in \u001b[0;36mSSLSocket.recv_into\u001b[1;34m(self, buffer, nbytes, flags)\u001b[0m\n\u001b[0;32m   1270\u001b[0m     \u001b[39mif\u001b[39;00m flags \u001b[39m!=\u001b[39m \u001b[39m0\u001b[39m:\n\u001b[0;32m   1271\u001b[0m         \u001b[39mraise\u001b[39;00m \u001b[39mValueError\u001b[39;00m(\n\u001b[0;32m   1272\u001b[0m           \u001b[39m\"\u001b[39m\u001b[39mnon-zero flags not allowed in calls to recv_into() on \u001b[39m\u001b[39m%s\u001b[39;00m\u001b[39m\"\u001b[39m \u001b[39m%\u001b[39m\n\u001b[0;32m   1273\u001b[0m           \u001b[39mself\u001b[39m\u001b[39m.\u001b[39m\u001b[39m__class__\u001b[39m)\n\u001b[1;32m-> 1274\u001b[0m     \u001b[39mreturn\u001b[39;00m \u001b[39mself\u001b[39;49m\u001b[39m.\u001b[39;49mread(nbytes, buffer)\n\u001b[0;32m   1275\u001b[0m \u001b[39melse\u001b[39;00m:\n\u001b[0;32m   1276\u001b[0m     \u001b[39mreturn\u001b[39;00m \u001b[39msuper\u001b[39m()\u001b[39m.\u001b[39mrecv_into(buffer, nbytes, flags)\n",
      "File \u001b[1;32mc:\\Users\\ebili\\anaconda3\\lib\\ssl.py:1130\u001b[0m, in \u001b[0;36mSSLSocket.read\u001b[1;34m(self, len, buffer)\u001b[0m\n\u001b[0;32m   1128\u001b[0m \u001b[39mtry\u001b[39;00m:\n\u001b[0;32m   1129\u001b[0m     \u001b[39mif\u001b[39;00m buffer \u001b[39mis\u001b[39;00m \u001b[39mnot\u001b[39;00m \u001b[39mNone\u001b[39;00m:\n\u001b[1;32m-> 1130\u001b[0m         \u001b[39mreturn\u001b[39;00m \u001b[39mself\u001b[39;49m\u001b[39m.\u001b[39;49m_sslobj\u001b[39m.\u001b[39;49mread(\u001b[39mlen\u001b[39;49m, buffer)\n\u001b[0;32m   1131\u001b[0m     \u001b[39melse\u001b[39;00m:\n\u001b[0;32m   1132\u001b[0m         \u001b[39mreturn\u001b[39;00m \u001b[39mself\u001b[39m\u001b[39m.\u001b[39m_sslobj\u001b[39m.\u001b[39mread(\u001b[39mlen\u001b[39m)\n",
      "\u001b[1;31mKeyboardInterrupt\u001b[0m: "
     ]
    }
   ],
   "source": [
    "tempo = time.time() + 10\n",
    "\n",
    "while True:\n",
    "#while time.time() < tempo:\n",
    "    ticker1 = \"EURUSD\"\n",
    "    tick = mt5.symbol_info_tick(ticker1)\n",
    "    print(f\"Fechamento: {tick.last}\")\n",
    "    print(f\"Valor compra: {tick.ask}\")\n",
    "    print(f\"Valor venda: {tick.bid}\")\n",
    "    print(\"-----------------\")\n",
    "\n",
    "    if tick.bid < 1.10000:\n",
    "        envia_email(ticker=ticker1, valor=tick.bid)\n",
    "    \n",
    "    time.sleep(5)"
   ]
  }
 ],
 "metadata": {
  "kernelspec": {
   "display_name": "base",
   "language": "python",
   "name": "python3"
  },
  "language_info": {
   "codemirror_mode": {
    "name": "ipython",
    "version": 3
   },
   "file_extension": ".py",
   "mimetype": "text/x-python",
   "name": "python",
   "nbconvert_exporter": "python",
   "pygments_lexer": "ipython3",
   "version": "3.10.9"
  },
  "orig_nbformat": 4
 },
 "nbformat": 4,
 "nbformat_minor": 2
}
